{
 "cells": [
  {
   "cell_type": "markdown",
   "id": "9c183ef8",
   "metadata": {},
   "source": [
    "# Calculadora de IMC"
   ]
  },
  {
   "cell_type": "code",
   "execution_count": 22,
   "id": "69e17649",
   "metadata": {},
   "outputs": [
    {
     "name": "stdout",
     "output_type": "stream",
     "text": [
      "Informe o seu nome: Antonio\n",
      "Informe o seu peso em quilos: 89\n",
      "Informe a sua altura em centímetros: 176\n",
      "O seu IMC é: 28.731921487603305\n",
      "Antonio, você está acima do peso.\n"
     ]
    }
   ],
   "source": [
    "name = input(\"Informe o seu nome: \")\n",
    "\n",
    "weight = float(input(\"Informe o seu peso em quilos: \"))\n",
    "\n",
    "height = float(input(\"Informe a sua altura em centímetros: \"))\n",
    "\n",
    "IMC = ((weight)/((height/100)**2))\n",
    "\n",
    "print(\"O seu IMC é: \" + str(IMC))\n",
    "\n",
    "if IMC>0:\n",
    "    if(IMC<18.5):\n",
    "        print(name + \", você está abaixo do peso.\")\n",
    "    elif(IMC<24.9):\n",
    "        print(name + \", parabéns! Você está no seu peso ideal!\")\n",
    "    elif(IMC<=29.9):\n",
    "        print(name + \", você está acima do peso.\")\n",
    "    elif(IMC<=34.9):\n",
    "        print(name + \", você está com Obesidade de grau I.\")\n",
    "    elif(IMC<=39.9):\n",
    "        print(name + \", você está com Obesidade de grau II.\")\n",
    "    else:\n",
    "        print(name + \", você está com Obesidade de grau III.\")\n",
    "else:\n",
    "    print(\"Insira valores válidos.\")"
   ]
  }
 ],
 "metadata": {
  "kernelspec": {
   "display_name": "Python 3 (ipykernel)",
   "language": "python",
   "name": "python3"
  },
  "language_info": {
   "codemirror_mode": {
    "name": "ipython",
    "version": 3
   },
   "file_extension": ".py",
   "mimetype": "text/x-python",
   "name": "python",
   "nbconvert_exporter": "python",
   "pygments_lexer": "ipython3",
   "version": "3.11.3"
  }
 },
 "nbformat": 4,
 "nbformat_minor": 5
}
